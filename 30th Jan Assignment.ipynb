{
 "cells": [
  {
   "cell_type": "markdown",
   "id": "7dc57163-5282-4bda-a6f0-7e70d5de32cc",
   "metadata": {},
   "source": [
    "1. Write a program to accept percentage from the user and display the grade according to the following\n",
    "criteria: \n",
    "Marks \n",
    "Grade \n",
    ">90 \n",
    "A \n",
    ">80 and <=90 \n",
    "B \n",
    ">=60 and <=80 \n",
    "C \n",
    "below 60 \n",
    "D "
   ]
  },
  {
   "cell_type": "code",
   "execution_count": 6,
   "id": "75a48dc1-f5ef-4164-98d6-6339a8a0296e",
   "metadata": {},
   "outputs": [
    {
     "name": "stdin",
     "output_type": "stream",
     "text": [
      "Enter your marks:-  5\n"
     ]
    },
    {
     "name": "stdout",
     "output_type": "stream",
     "text": [
      "Grade D\n"
     ]
    }
   ],
   "source": [
    "# Ans:- \n",
    "mark = int(input(\"Enter your marks:- \"))\n",
    "if mark>90:\n",
    "    print(\"Grade A\")\n",
    "elif mark > 80 and mark <=90:\n",
    "    print(\"Grade B\")\n",
    "elif mark >= 60 and mark <=80:\n",
    "    print(\"Grade C\")\n",
    "else:\n",
    "    print(\"Grade D\")"
   ]
  },
  {
   "cell_type": "markdown",
   "id": "9ce28322-d7e8-4bc5-8593-297f15975316",
   "metadata": {},
   "source": [
    "2. Write a program to accept the cost price of a bike and display the road tax to be paid according to the \n",
    "following criteria:\n",
    "Tax        Cost Price (in Rs)\n",
    "15%        >100000\n",
    "10%        >5000 and <= 100000\n",
    "5%         <= 50000"
   ]
  },
  {
   "cell_type": "code",
   "execution_count": 13,
   "id": "eadb24e3-41e2-4e4d-a9ec-5746e8808bf6",
   "metadata": {},
   "outputs": [
    {
     "name": "stdin",
     "output_type": "stream",
     "text": [
      "Enter the cost price of your bike:-  51000\n"
     ]
    },
    {
     "name": "stdout",
     "output_type": "stream",
     "text": [
      "The road tax is 10% =  5100.0\n"
     ]
    }
   ],
   "source": [
    "#Ans:- \n",
    "price = int(input(\"Enter the cost price of your bike:- \"))\n",
    "if price > 100000:\n",
    "    tax = price/100*15\n",
    "    print(\"The road tax is 15% = \", tax)\n",
    "elif price > 50000 and price <= 100000:\n",
    "    tax = price/100*10\n",
    "    print(\"The road tax is 10% = \", tax)\n",
    "else:\n",
    "    tax = price/100*5\n",
    "    print(\"the road tax is 5% = \", tax)"
   ]
  },
  {
   "cell_type": "markdown",
   "id": "5230e352-8e2d-4fed-96e2-77f7d98edb16",
   "metadata": {},
   "source": [
    "3. Accept any city from the user and display monuments of that city.\n",
    "City             Monument \n",
    "Delhi            Red Fort\n",
    "Agra             Taj Mahal\n",
    "Jaipur           Jal Mahal"
   ]
  },
  {
   "cell_type": "code",
   "execution_count": 19,
   "id": "6f217df0-b519-4c3f-abf7-35c13941c22b",
   "metadata": {},
   "outputs": [
    {
     "name": "stdin",
     "output_type": "stream",
     "text": [
      "Enter any city:-  Jaipur\n"
     ]
    },
    {
     "name": "stdout",
     "output_type": "stream",
     "text": [
      "Mouments of that city is Jal Mahal\n"
     ]
    }
   ],
   "source": [
    "#Ans:-\n",
    "city = input(\"Enter any city:- \")\n",
    "if city == \"Delhi\":\n",
    "    print(\"Mouments of that city is Red Fort\")\n",
    "elif city == \"Agra\":\n",
    "    print(\"Mouments of that city is Taj Mahal\")\n",
    "elif city == \"Jaipur\":\n",
    "    print(\"Mouments of that city is Jal Mahal\")\n",
    "else:\n",
    "    print()"
   ]
  },
  {
   "cell_type": "markdown",
   "id": "d6c1dd39-1a29-431f-95ad-f25880ab91bc",
   "metadata": {},
   "source": [
    "4. Check how many times a given number can be divided by 3 before it is less than or equal to 10."
   ]
  },
  {
   "cell_type": "code",
   "execution_count": 2,
   "id": "416a00c1-3ab8-42f4-a1da-2101cb3ffbef",
   "metadata": {},
   "outputs": [
    {
     "name": "stdin",
     "output_type": "stream",
     "text": [
      "Enter your number:-  5\n"
     ]
    },
    {
     "name": "stdout",
     "output_type": "stream",
     "text": [
      "The number is divided 0 time\n"
     ]
    }
   ],
   "source": [
    "#Ans:- \n",
    "num = int(input(\"Enter your number:- \"))\n",
    "c= 0\n",
    "while num >= 10:\n",
    "    num = num/3\n",
    "    c= c+1\n",
    "print(\"The number is divided\", c,\"time\" )"
   ]
  },
  {
   "cell_type": "markdown",
   "id": "1a35f36c-00d5-4039-b9f8-3e345c44e348",
   "metadata": {},
   "source": [
    "5. Why and When to Use while Loop in Python give a detailed description with example"
   ]
  },
  {
   "cell_type": "markdown",
   "id": "cf361851-efdc-43e2-affe-b8a72f7a4426",
   "metadata": {},
   "source": [
    "#Ans:-\n",
    "A while loop statement in Python programming language repeatedly executes a target statement as long as a given condition is true.\n",
    "\n",
    "Syntax\n",
    "The syntax of a while loop in Python programming language is −\n",
    "\n",
    "while expression:\n",
    "   statement(s)\n",
    "Here, statement(s) may be a single statement or a block of statements. The condition may be any expression, and true is any non-zero value. The loop iterates while the condition is true.\n",
    "\n",
    "When the condition becomes false, program control passes to the line immediately following the loop.\n",
    "\n",
    "In Python, all the statements indented by the same number of character spaces after a programming construct are considered to be part of a single block of code. Python uses indentation as its method of grouping statements."
   ]
  },
  {
   "cell_type": "code",
   "execution_count": 14,
   "id": "4096043c-982b-4a0c-938d-7e44d90da709",
   "metadata": {},
   "outputs": [
    {
     "name": "stdout",
     "output_type": "stream",
     "text": [
      "0\n",
      "1\n",
      "2\n",
      "3\n",
      "4\n",
      "5\n",
      "6\n",
      "7\n",
      "8\n",
      "9\n",
      "10\n"
     ]
    }
   ],
   "source": [
    "#Example:- \n",
    "number = 0\n",
    "while number<= 10:\n",
    "    print(number)\n",
    "    number = number+1    "
   ]
  },
  {
   "cell_type": "markdown",
   "id": "e4f62936-087b-491d-be8e-d0c31df634dc",
   "metadata": {},
   "source": [
    "6. Use nested while loop to print 3 different pattern."
   ]
  },
  {
   "cell_type": "code",
   "execution_count": 19,
   "id": "5be69a7a-c6b1-453f-b1c5-8c0c65c8cd75",
   "metadata": {},
   "outputs": [
    {
     "name": "stdout",
     "output_type": "stream",
     "text": [
      " \n",
      "* * * * *  \n",
      "* * * * *  \n",
      "* * * * *  \n",
      "* * * * *  \n",
      "* * * * * "
     ]
    }
   ],
   "source": [
    "#Ans:- \n",
    "# 1.\n",
    "n = 1 \n",
    "while n<=5:\n",
    "    print(\" \")\n",
    "    n = n+1\n",
    "    j = 1\n",
    "    while j <= 5:\n",
    "        print(\"*\",end=\" \")\n",
    "        j= j+1"
   ]
  },
  {
   "cell_type": "code",
   "execution_count": 16,
   "id": "969b2826-b7b0-41ef-8a56-5502c84fa478",
   "metadata": {},
   "outputs": [
    {
     "name": "stdout",
     "output_type": "stream",
     "text": [
      " \n",
      "*  \n",
      "* *  \n",
      "* * *  \n",
      "* * * *  \n",
      "* * * * * "
     ]
    }
   ],
   "source": [
    "# 2. \n",
    "n = 1\n",
    "while n<=5:\n",
    "    print(\" \")\n",
    "    j = 1\n",
    "    while j<= n:\n",
    "        print(\"*\", end=\" \")\n",
    "        j+=1\n",
    "    n= n+1"
   ]
  },
  {
   "cell_type": "code",
   "execution_count": 18,
   "id": "3207aeb1-3cb1-4149-904d-5d4088850a46",
   "metadata": {},
   "outputs": [
    {
     "name": "stdout",
     "output_type": "stream",
     "text": [
      "1 \n",
      "1 2 \n",
      "1 2 3 \n",
      "1 2 3 4 \n",
      "1 2 3 4 5 \n"
     ]
    }
   ],
   "source": [
    "# 3. \n",
    "n = 1\n",
    "while n<=5:    \n",
    "    j = 1\n",
    "    while j <= n:\n",
    "        print(j, end=\" \")\n",
    "        j+=1\n",
    "    print(\"\")\n",
    "    n= n+1"
   ]
  },
  {
   "cell_type": "markdown",
   "id": "aec333ff-3c16-44ae-8b5f-ae78910d0416",
   "metadata": {},
   "source": [
    "7. Reverse a while loop to display numbers from 10 to 1."
   ]
  },
  {
   "cell_type": "code",
   "execution_count": 20,
   "id": "7c4583b2-95cb-4252-b632-a7fb32f06a42",
   "metadata": {},
   "outputs": [
    {
     "name": "stdout",
     "output_type": "stream",
     "text": [
      "10\n",
      "9\n",
      "8\n",
      "7\n",
      "6\n",
      "5\n",
      "4\n",
      "3\n",
      "2\n",
      "1\n"
     ]
    }
   ],
   "source": [
    "#Ans:-\n",
    "n = 10\n",
    "while n >=1:\n",
    "    print(n)\n",
    "    n-=1"
   ]
  },
  {
   "cell_type": "markdown",
   "id": "d6b163fe-6890-4d91-bea0-036c5c434bc1",
   "metadata": {},
   "source": [
    "8. Reverse a while loop to display numbers from 10 to 1."
   ]
  },
  {
   "cell_type": "code",
   "execution_count": 24,
   "id": "b03ee37f-a519-476f-99fc-c66424e6d3ed",
   "metadata": {},
   "outputs": [
    {
     "name": "stdout",
     "output_type": "stream",
     "text": [
      "10\n",
      "9\n",
      "8\n",
      "7\n",
      "6\n",
      "5\n",
      "4\n",
      "3\n",
      "2\n",
      "1\n"
     ]
    }
   ],
   "source": [
    "#Ans:-\n",
    "n = 10\n",
    "while n >= 1:\n",
    "    print(n)\n",
    "    n-=1"
   ]
  }
 ],
 "metadata": {
  "kernelspec": {
   "display_name": "Python 3 (ipykernel)",
   "language": "python",
   "name": "python3"
  },
  "language_info": {
   "codemirror_mode": {
    "name": "ipython",
    "version": 3
   },
   "file_extension": ".py",
   "mimetype": "text/x-python",
   "name": "python",
   "nbconvert_exporter": "python",
   "pygments_lexer": "ipython3",
   "version": "3.10.8"
  }
 },
 "nbformat": 4,
 "nbformat_minor": 5
}
