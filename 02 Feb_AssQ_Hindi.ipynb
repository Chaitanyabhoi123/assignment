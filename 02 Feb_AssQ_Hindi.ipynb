{
 "cells": [
  {
   "cell_type": "markdown",
   "id": "39de3879-5844-4fc0-8a71-0aa8e45ebc81",
   "metadata": {},
   "source": [
    "Q1.  Explain with an example each when to use a for loop and a while loop."
   ]
  },
  {
   "cell_type": "markdown",
   "id": "3c53c5c8-3081-443f-b713-af2f847d0662",
   "metadata": {},
   "source": [
    "Ans:- In computer programming, loops are used to repeat a block of code.\n",
    "\n",
    "while loop:- \n",
    "In python, a while loop is used to execute a block of statements repeatedly until a given condition is satisfied. And when the condition becomes false, the line immediately after the loop in the program is executed.\n",
    "\n",
    "Syntax:\n",
    "\n",
    "while expression:\n",
    "    statement(s)\n",
    "\n",
    "for loop:-\n",
    "A for loop is used for iterating over a sequence (that is either a list, a tuple, a dictionary, a set, or a string).\n",
    "This is less like the for keyword in other programming languages, and works more like an iterator method as found in other object-orientated programming languages.\n",
    "With the for loop we can execute a set of statements, once for each item in a list, tuple, set etc.\n",
    "\n",
    "Syntax:\n",
    "\n",
    "for iterator_var in sequence:\n",
    "    statements(s)"
   ]
  },
  {
   "cell_type": "code",
   "execution_count": 2,
   "id": "fe4c1ce1-3a79-469e-837e-732e4e0387dd",
   "metadata": {},
   "outputs": [
    {
     "name": "stdout",
     "output_type": "stream",
     "text": [
      "1\n",
      "2\n",
      "3\n",
      "4\n",
      "5\n",
      "6\n",
      "7\n",
      "8\n",
      "9\n",
      "10\n"
     ]
    }
   ],
   "source": [
    "# while loop example:-\n",
    "x = 1\n",
    "while x <= 10:\n",
    "    print(x)\n",
    "    x+=1"
   ]
  },
  {
   "cell_type": "code",
   "execution_count": 4,
   "id": "43faba89-de9c-4fa6-ba9a-eb4e8a1c03a5",
   "metadata": {},
   "outputs": [
    {
     "name": "stdout",
     "output_type": "stream",
     "text": [
      "1\n",
      "4\n",
      "9\n",
      "16\n",
      "25\n"
     ]
    }
   ],
   "source": [
    "# for loop example:-\n",
    "l= [1,2,3,4,5]\n",
    "for i in l:\n",
    "    print(i**2)"
   ]
  },
  {
   "cell_type": "markdown",
   "id": "2d269485-e221-452c-ac96-b3acd847bfee",
   "metadata": {},
   "source": [
    "Q2.  Write a python program to print the sum and product of the first 10 natural numbers using for  and while loop. "
   ]
  },
  {
   "cell_type": "code",
   "execution_count": 9,
   "id": "55e1e63e-1d30-4178-b6bf-7580885cee6c",
   "metadata": {},
   "outputs": [
    {
     "name": "stdout",
     "output_type": "stream",
     "text": [
      "Sum of the first 10 natural number is  55\n",
      "Product of the first 10 natural number is 3628800\n"
     ]
    }
   ],
   "source": [
    "# Ans:-\n",
    "# Using for loop:-\n",
    "sum_ = 0\n",
    "squre = 1\n",
    "for i in range(1,11):\n",
    "    sum_ = sum_+i\n",
    "    squre = squre*i\n",
    "print(\"Sum of the first 10 natural number is \",sum_)\n",
    "print(\"Product of the first 10 natural number is\",squre)"
   ]
  },
  {
   "cell_type": "code",
   "execution_count": 10,
   "id": "e646632b-932e-4038-b448-fd23e828ea8c",
   "metadata": {},
   "outputs": [
    {
     "name": "stdout",
     "output_type": "stream",
     "text": [
      "Sum of the first 10 natural number is  55\n",
      "Product of the first 10 natural number is 3628800\n"
     ]
    }
   ],
   "source": [
    "# Using while loop:-\n",
    "j = 1\n",
    "s_um = 0\n",
    "s_qure = 1\n",
    "while j<=10:\n",
    "    s_um = s_um + j\n",
    "    s_qure = s_qure * j\n",
    "    j = j+1\n",
    "print(\"Sum of the first 10 natural number is \",s_um)\n",
    "print(\"Product of the first 10 natural number is\",s_qure)"
   ]
  },
  {
   "cell_type": "markdown",
   "id": "8e7e5117-ee77-4ac6-9de5-974c0e825e48",
   "metadata": {},
   "source": [
    "Q3. Create a python program to compute the electricity bill for a household. \n",
    "The per-unit charges in rupees are as follows: For the first 100 units, the user will be charged Rs. 4.5 per  unit, for the next 100 units, the user will be charged Rs. 6 per unit, and for the next 100 units, the user will  be charged Rs. 10 per unit, After 300 units and above the user will be charged Rs. 20 per unit.\n",
    "\n",
    "You are required to take the units of electricity consumed in a month from the user as input. \n",
    "Your program must pass this test case: when the unit of electricity consumed by the user in a month is  310, the total electricity bill should be 2250."
   ]
  },
  {
   "cell_type": "code",
   "execution_count": 12,
   "id": "05cb42d2-f983-40ae-a7f1-0df7b65ec76b",
   "metadata": {},
   "outputs": [
    {
     "name": "stdin",
     "output_type": "stream",
     "text": [
      "Enter your enter your units of electricity consumed in a month  310\n"
     ]
    },
    {
     "name": "stdout",
     "output_type": "stream",
     "text": [
      "Your electricity bill is  2250\n"
     ]
    }
   ],
   "source": [
    "# Ans:- \n",
    "units = int(input(\"Enter your enter your units of electricity consumed in a month \"))\n",
    "if units > 0 and units <= 100:\n",
    "    electricity_bill = units * 4.5\n",
    "elif units > 100 and units <= 200:\n",
    "    electricity_bill = 450 + ((units-100) * 6)\n",
    "elif units > 200 and units <= 300:\n",
    "    electricity_bill = 450 + 600 + ((units-200) * 10)\n",
    "else:\n",
    "    electricity_bill = 450 + 600 + 1000 + ((units-300) * 20)\n",
    "print(\"Your electricity bill is \",electricity_bill)"
   ]
  },
  {
   "cell_type": "markdown",
   "id": "b35655d2-0a3c-4846-8f5f-018bddd39ff8",
   "metadata": {},
   "source": [
    "Q4. Create a list of numbers from 1 to 100. Use for loop and while loop to calculate the cube of each  number and if the cube of that number is divisible by 4 or 5 then append that number in a list and print  that list."
   ]
  },
  {
   "cell_type": "code",
   "execution_count": 1,
   "id": "fe5b290b-39e4-47f8-86af-7d11ad419298",
   "metadata": {},
   "outputs": [
    {
     "name": "stdout",
     "output_type": "stream",
     "text": [
      "List of 1 to 100 =  [1, 2, 3, 4, 5, 6, 7, 8, 9, 10, 11, 12, 13, 14, 15, 16, 17, 18, 19, 20, 21, 22, 23, 24, 25, 26, 27, 28, 29, 30, 31, 32, 33, 34, 35, 36, 37, 38, 39, 40, 41, 42, 43, 44, 45, 46, 47, 48, 49, 50, 51, 52, 53, 54, 55, 56, 57, 58, 59, 60, 61, 62, 63, 64, 65, 66, 67, 68, 69, 70, 71, 72, 73, 74, 75, 76, 77, 78, 79, 80, 81, 82, 83, 84, 85, 86, 87, 88, 89, 90, 91, 92, 93, 94, 95, 96, 97, 98, 99, 100]\n",
      "Cube of list =  [1, 8, 27, 64, 125, 216, 343, 512, 729, 1000, 1331, 1728, 2197, 2744, 3375, 4096, 4913, 5832, 6859, 8000, 9261, 10648, 12167, 13824, 15625, 17576, 19683, 21952, 24389, 27000, 29791, 32768, 35937, 39304, 42875, 46656, 50653, 54872, 59319, 64000, 68921, 74088, 79507, 85184, 91125, 97336, 103823, 110592, 117649, 125000, 132651, 140608, 148877, 157464, 166375, 175616, 185193, 195112, 205379, 216000, 226981, 238328, 250047, 262144, 274625, 287496, 300763, 314432, 328509, 343000, 357911, 373248, 389017, 405224, 421875, 438976, 456533, 474552, 493039, 512000, 531441, 551368, 571787, 592704, 614125, 636056, 658503, 681472, 704969, 729000, 753571, 778688, 804357, 830584, 857375, 884736, 912673, 941192, 970299, 1000000]\n",
      "Divisible by 4 or 5 =  [8, 64, 125, 216, 512, 1000, 1728, 2744, 3375, 4096, 5832, 8000, 10648, 13824, 15625, 17576, 21952, 27000, 32768, 39304, 42875, 46656, 54872, 64000, 74088, 85184, 91125, 97336, 110592, 125000, 140608, 157464, 166375, 175616, 195112, 216000, 238328, 262144, 274625, 287496, 314432, 343000, 373248, 405224, 421875, 438976, 474552, 512000, 551368, 592704, 614125, 636056, 681472, 729000, 778688, 830584, 857375, 884736, 941192, 1000000]\n"
     ]
    }
   ],
   "source": [
    "# Ans:-\n",
    "# Using for loop:-\n",
    "m = []\n",
    "j = []\n",
    "a = []\n",
    "for i in range(1,101):\n",
    "    m.append(i)\n",
    "print(\"List of 1 to 100 = \",m)\n",
    "for i in m:\n",
    "    j.append(i**3)\n",
    "print(\"Cube of list = \",j)\n",
    "for i in j:\n",
    "    if i % 4 == 0 or i % 5 == 0:\n",
    "        a.append(i)   \n",
    "print(\"Divisible by 4 or 5 = \",a)"
   ]
  },
  {
   "cell_type": "code",
   "execution_count": 2,
   "id": "6556ea0e-d065-4a75-bc0b-32cbe496d858",
   "metadata": {},
   "outputs": [
    {
     "name": "stdout",
     "output_type": "stream",
     "text": [
      "List of 1 to 100 =  [1, 2, 3, 4, 5, 6, 7, 8, 9, 10, 11, 12, 13, 14, 15, 16, 17, 18, 19, 20, 21, 22, 23, 24, 25, 26, 27, 28, 29, 30, 31, 32, 33, 34, 35, 36, 37, 38, 39, 40, 41, 42, 43, 44, 45, 46, 47, 48, 49, 50, 51, 52, 53, 54, 55, 56, 57, 58, 59, 60, 61, 62, 63, 64, 65, 66, 67, 68, 69, 70, 71, 72, 73, 74, 75, 76, 77, 78, 79, 80, 81, 82, 83, 84, 85, 86, 87, 88, 89, 90, 91, 92, 93, 94, 95, 96, 97, 98, 99, 100]\n",
      "Cube of list =  [1, 8, 27, 64, 125, 216, 343, 512, 729, 1000, 1331, 1728, 2197, 2744, 3375, 4096, 4913, 5832, 6859, 8000, 9261, 10648, 12167, 13824, 15625, 17576, 19683, 21952, 24389, 27000, 29791, 32768, 35937, 39304, 42875, 46656, 50653, 54872, 59319, 64000, 68921, 74088, 79507, 85184, 91125, 97336, 103823, 110592, 117649, 125000, 132651, 140608, 148877, 157464, 166375, 175616, 185193, 195112, 205379, 216000, 226981, 238328, 250047, 262144, 274625, 287496, 300763, 314432, 328509, 343000, 357911, 373248, 389017, 405224, 421875, 438976, 456533, 474552, 493039, 512000, 531441, 551368, 571787, 592704, 614125, 636056, 658503, 681472, 704969, 729000, 753571, 778688, 804357, 830584, 857375, 884736, 912673, 941192, 970299, 1000000]\n",
      "Divisible by 4 or 5 =  [8, 64, 125, 216, 512, 1000, 1728, 2744, 3375, 4096, 5832, 8000, 10648, 13824, 15625, 17576, 21952, 27000, 32768, 39304, 42875, 46656, 54872, 64000, 74088, 85184, 91125, 97336, 110592, 125000, 140608, 157464, 166375, 175616, 195112, 216000, 238328, 262144, 274625, 287496, 314432, 343000, 373248, 405224, 421875, 438976, 474552, 512000, 551368, 592704, 614125, 636056, 681472, 729000, 778688, 830584, 857375, 884736, 941192, 1000000]\n"
     ]
    }
   ],
   "source": [
    "# Using while loop:-\n",
    "m = []\n",
    "j = []\n",
    "a = []\n",
    "x = 1\n",
    "while x <= 100:\n",
    "    m.append(x)\n",
    "    j.append(x**3)   \n",
    "    x = x+1\n",
    "print(\"List of 1 to 100 = \",m)\n",
    "print(\"Cube of list = \",j)\n",
    "for i in j:\n",
    "    if i % 4 == 0 or i % 5 == 0:\n",
    "        a.append(i)\n",
    "print(\"Divisible by 4 or 5 = \",a)"
   ]
  },
  {
   "cell_type": "markdown",
   "id": "5f5e04d6-a418-4056-9e6c-6cf425a214f3",
   "metadata": {},
   "source": [
    "Q5.  Write a program to filter count vowels in the below-given string. \n",
    "string = \"I want to become a data scientist\""
   ]
  },
  {
   "cell_type": "code",
   "execution_count": 5,
   "id": "a686f6ae-e57e-4da3-aae3-6148f9c3f7aa",
   "metadata": {},
   "outputs": [
    {
     "name": "stdout",
     "output_type": "stream",
     "text": [
      "['I', 'a', 'o', 'e', 'o', 'e', 'a', 'a', 'a', 'i', 'e', 'i']\n",
      "12 vowels are in the string.\n"
     ]
    }
   ],
   "source": [
    "s_tring = \"I want to become a data scientist\"\n",
    "s= []\n",
    "for i in s_tring:\n",
    "    if i == \"a\" or i == \"e\" or i == \"i\" or i == \"o\" or i == \"u\"or i == \"A\"or i == \"E\" or i == \"I\" or i ==\"O\" or i ==\"U\":\n",
    "        s.append(i)\n",
    "print(s)\n",
    "print((len(s)),\"vowels are in the string.\")"
   ]
  }
 ],
 "metadata": {
  "kernelspec": {
   "display_name": "Python 3 (ipykernel)",
   "language": "python",
   "name": "python3"
  },
  "language_info": {
   "codemirror_mode": {
    "name": "ipython",
    "version": 3
   },
   "file_extension": ".py",
   "mimetype": "text/x-python",
   "name": "python",
   "nbconvert_exporter": "python",
   "pygments_lexer": "ipython3",
   "version": "3.10.8"
  }
 },
 "nbformat": 4,
 "nbformat_minor": 5
}
